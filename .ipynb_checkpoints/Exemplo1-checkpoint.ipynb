{
 "cells": [
  {
   "cell_type": "code",
   "execution_count": 1,
   "id": "095e5e59-db3c-4c7c-9627-235ec7348b73",
   "metadata": {
    "tags": []
   },
   "outputs": [],
   "source": [
    "import numpy as np\n",
    "import matplotlib.pyplot as plt\n",
    "import pandas as pd"
   ]
  },
  {
   "cell_type": "code",
   "execution_count": 2,
   "id": "b6982624-b46e-4a69-bc2d-7b28e0183507",
   "metadata": {
    "tags": []
   },
   "outputs": [],
   "source": [
    "L = np.array([\n",
    "    [0,    0,    0,    0,    2.833, 3.667, 4.000, 6.833, 6.166, 2.500, 0],\n",
    "    [0.825, 0,    0,    0,    0,    0,    0,    0,    0,    0,    0],\n",
    "    [0,    0.697, 0,    0,    0,    0,    0,    0,    0,    0,    0],\n",
    "    [0,    0,    0.652, 0,    0,    0,    0,    0,    0,    0,    0],\n",
    "    [0,    0,    0,    0.533, 0,    0,    0,    0,    0,    0,    0],\n",
    "    [0,    0,    0,    0,    0.750, 0,    0,    0,    0,    0,    0],\n",
    "    [0,    0,    0,    0,    0,    1.000, 0,    0,    0,    0,    0],\n",
    "    [0,    0,    0,    0,    0,    0,    1.000, 0,    0,    0,    0],\n",
    "    [0,    0,    0,    0,    0,    0,    0,    1.000, 0,    0,    0],\n",
    "    [0,    0,    0,    0,    0,    0,    0,    0,    1.000, 0,    0],\n",
    "    [0,    0,    0,    0,    0,    0,    0,    0,    0,    0.667, 0]\n",
    "])\n",
    "\n",
    "# Vetor de distribuição inicial (exemplo com 1000 indivíduos na primeira faixa etária)\n",
    "N_0 = np.array([0, 0, 20, 0, 30, 0, 20, 0, 10, 0, 0])"
   ]
  },
  {
   "cell_type": "code",
   "execution_count": 3,
   "id": "b2aa5848-e5a8-4983-a012-eedb337d21e3",
   "metadata": {
    "tags": []
   },
   "outputs": [],
   "source": [
    "def iteracao_leslie(L, N_0, tol=1e-20, max_iter=1000):\n",
    "    \"\"\"\n",
    "    Função para iterar multiplicando a matriz Leslie L pelo vetor de distribuição N_0\n",
    "    até que a taxa de crescimento entre duas iterações sucessivas seja constante (ou próxima disso).\n",
    "    \n",
    "    Args:\n",
    "    - L (np.array): Matriz Leslie\n",
    "    - N_0 (np.array): Vetor de distribuição inicial\n",
    "    - tol (float): Tolerância para a diferença entre N_i e N_(i-1)\n",
    "    - max_iter (int): Número máximo de iterações\n",
    "    \n",
    "    Retorna:\n",
    "    - N (np.array): Vetor de distribuição após a convergência\n",
    "    - iteracoes (int): Número de iterações realizadas\n",
    "    - rates[-1]: taxa de crescimento\n",
    "    \"\"\"\n",
    "    N = N_0  # Inicializa o vetor de distribuição\n",
    "    iteracoes = 0  # Contador de iterações\n",
    "    rates = []  # Lista para armazenar as diferenças\n",
    "\n",
    "    while iteracoes < max_iter:\n",
    "        N_next = np.dot(L, N)  # Multiplica a matriz Leslie pelo vetor N\n",
    "        rate = 1 + np.abs(np.sum(N_next) - np.sum(N)) / np.sum(N)\n",
    "\n",
    "        # Adiciona a diferença à lista\n",
    "        rates.append(rate)\n",
    "\n",
    "        # Verifica se a diferença está se aproximando de uma constante\n",
    "        if len(rates) > 2 and np.abs(rates[-1] - rates[-2]) < tol:\n",
    "            break  # Sai do loop se a diferença entre iterações for constante\n",
    "\n",
    "        N = N_next  # Atualiza N para a próxima iteração\n",
    "        iteracoes += 1\n",
    "\n",
    "    return N, iteracoes, rates[-1]"
   ]
  },
  {
   "cell_type": "code",
   "execution_count": 4,
   "id": "b91719e3-78db-4446-b45f-9b3950307c8e",
   "metadata": {
    "tags": []
   },
   "outputs": [
    {
     "name": "stdout",
     "output_type": "stream",
     "text": [
      "Distribuição final após 251 iterações:\n",
      "               0\n",
      "0   5.087443e+22\n",
      "1   3.470658e+22\n",
      "2   2.000336e+22\n",
      "3   1.078472e+22\n",
      "4   4.753292e+21\n",
      "5   2.947909e+21\n",
      "6   2.437656e+21\n",
      "7   2.015723e+21\n",
      "8   1.666822e+21\n",
      "9   1.378312e+21\n",
      "10  7.602067e+20\n",
      "Diferenças entre as iterações: 1.2093211419872842\n"
     ]
    }
   ],
   "source": [
    "N_resultado, iteracoes, rate = iteracao_leslie(L, N_0)\n",
    "\n",
    "print(f\"Distribuição final após {iteracoes} iterações:\")\n",
    "print(pd.DataFrame(N_resultado))\n",
    "\n",
    "# Exibindo as diferenças entre as iterações\n",
    "print(f\"Diferenças entre as iterações: {rate}\")"
   ]
  },
  {
   "cell_type": "code",
   "execution_count": 5,
   "id": "0f337e2a-c73e-4330-bd28-6fadcf7c9271",
   "metadata": {
    "tags": []
   },
   "outputs": [
    {
     "name": "stdout",
     "output_type": "stream",
     "text": [
      "Autovalores reais:                     0\n",
      "0  0.000000+0.000000j\n",
      "1  1.209321+0.000000j\n",
      "2 -0.738648+0.000000j \n",
      "\n",
      "Autovalor real dominante: 1.2093211419872854 \n",
      "\n",
      "Autovetor correspondente ao autovalor dominante:\n",
      "           0\n",
      "0   1.000000\n",
      "1   0.682201\n",
      "2   0.393191\n",
      "3   0.211987\n",
      "4   0.093432\n",
      "5   0.057945\n",
      "6   0.047915\n",
      "7   0.039622\n",
      "8   0.032763\n",
      "9   0.027092\n",
      "10  0.014943\n"
     ]
    }
   ],
   "source": [
    "#encontrando os autovalores e autovetores da matriz L\n",
    "eigvals, eigvecs = np.linalg.eig(L)\n",
    "\n",
    "# Filtrar apenas os autovalores reais\n",
    "real_eigvals = eigvals[np.isreal(eigvals)]\n",
    "\n",
    "# Encontrar o autovalor real dominante (de maior módulo)\n",
    "dominant_real_eigval = np.real(real_eigvals[np.argmax(np.abs(real_eigvals))])\n",
    "\n",
    "# Encontrar o índice do autovalor dominante\n",
    "dominant_index = np.argmax(np.abs(real_eigvals))\n",
    "\n",
    "# Obter o autovetor correspondente ao autovalor dominante\n",
    "dominant_real_eigvec = eigvecs[:, dominant_index]\n",
    "dominant_real_eigvec = np.real(dominant_real_eigvec/ dominant_real_eigvec[0])\n",
    "print(\"Autovalores reais:\", pd.DataFrame(real_eigvals),\"\\n\")\n",
    "print(\"Autovalor real dominante:\", dominant_real_eigval,\"\\n\")\n",
    "print(\"Autovetor correspondente ao autovalor dominante:\")\n",
    "print(pd.DataFrame(dominant_real_eigvec))"
   ]
  },
  {
   "cell_type": "code",
   "execution_count": 6,
   "id": "f41d64b3-54bd-422c-9103-322b557e2e71",
   "metadata": {
    "tags": []
   },
   "outputs": [
    {
     "name": "stdout",
     "output_type": "stream",
     "text": [
      "x_k_por_L:\n",
      "               0\n",
      "0   6.152352e+22\n",
      "1   4.197140e+22\n",
      "2   2.419049e+22\n",
      "3   1.304219e+22\n",
      "4   5.748256e+21\n",
      "5   3.564969e+21\n",
      "6   2.947909e+21\n",
      "7   2.437656e+21\n",
      "8   2.015723e+21\n",
      "9   1.666822e+21\n",
      "10  9.193341e+20 \n",
      "\n",
      "x_k_por_lambda:\n",
      "               0\n",
      "0   6.152352e+22\n",
      "1   4.197140e+22\n",
      "2   2.419049e+22\n",
      "3   1.304219e+22\n",
      "4   5.748256e+21\n",
      "5   3.564969e+21\n",
      "6   2.947909e+21\n",
      "7   2.437656e+21\n",
      "8   2.015723e+21\n",
      "9   1.666822e+21\n",
      "10  9.193341e+20 \n",
      "\n",
      "Erro relativo: 7.065381578431861e-16\n",
      "Lambda1 - taxa encontrada pelas iterações = 1.1102230246251565e-15\n"
     ]
    }
   ],
   "source": [
    "x_kminus1 = np.linalg.matrix_power(L, iteracoes) @ N_0\n",
    "x_k_por_L = (L @ x_kminus1)\n",
    "x_k_por_lambda = (dominant_real_eigval * x_kminus1)\n",
    "A = x_k_por_lambda - x_k_por_L\n",
    "erro_relativo = np.linalg.norm(A)/ np.linalg.norm(x_k_por_lambda)\n",
    "\n",
    "print(\"x_k_por_L:\")\n",
    "print(pd.DataFrame(x_k_por_L),'\\n')\n",
    "print(\"x_k_por_lambda:\")\n",
    "print(pd.DataFrame(x_k_por_lambda),'\\n')\n",
    "print(f\"Erro relativo: {erro_relativo}\")\n",
    "print(f\"Lambda1 - taxa encontrada pelas iterações = {dominant_real_eigval - rate}\")"
   ]
  }
 ],
 "metadata": {
  "kernelspec": {
   "display_name": "Python 3 (ipykernel)",
   "language": "python",
   "name": "python3"
  },
  "language_info": {
   "codemirror_mode": {
    "name": "ipython",
    "version": 3
   },
   "file_extension": ".py",
   "mimetype": "text/x-python",
   "name": "python",
   "nbconvert_exporter": "python",
   "pygments_lexer": "ipython3",
   "version": "3.9.13"
  }
 },
 "nbformat": 4,
 "nbformat_minor": 5
}
