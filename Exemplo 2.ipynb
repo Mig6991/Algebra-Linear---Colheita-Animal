{
 "cells": [
  {
   "cell_type": "code",
   "execution_count": 1,
   "id": "c22b30a3-ec3d-4a82-a015-60fff7a8bb77",
   "metadata": {
    "tags": []
   },
   "outputs": [],
   "source": [
    "import numpy as np\n",
    "import pandas as pd\n",
    "from scipy.optimize import minimize"
   ]
  },
  {
   "cell_type": "code",
   "execution_count": 2,
   "id": "359d58da-d811-48f7-a243-2f4d7006a2df",
   "metadata": {
    "tags": []
   },
   "outputs": [],
   "source": [
    "L = np.array([\n",
    "    [0,    0,    0,    0,    2.833, 3.667, 4.000, 6.833, 6.166, 2.500, 0],\n",
    "    [0.825, 0,    0,    0,    0,    0,    0,    0,    0,    0,    0],\n",
    "    [0,    0.697, 0,    0,    0,    0,    0,    0,    0,    0,    0],\n",
    "    [0,    0,    0.652, 0,    0,    0,    0,    0,    0,    0,    0],\n",
    "    [0,    0,    0,    0.533, 0,    0,    0,    0,    0,    0,    0],\n",
    "    [0,    0,    0,    0,    0.750, 0,    0,    0,    0,    0,    0],\n",
    "    [0,    0,    0,    0,    0,    1.000, 0,    0,    0,    0,    0],\n",
    "    [0,    0,    0,    0,    0,    0,    1.000, 0,    0,    0,    0],\n",
    "    [0,    0,    0,    0,    0,    0,    0,    1.000, 0,    0,    0],\n",
    "    [0,    0,    0,    0,    0,    0,    0,    0,    1.000, 0,    0],\n",
    "    [0,    0,    0,    0,    0,    0,    0,    0,    0,    0.667, 0]\n",
    "])\n"
   ]
  },
  {
   "cell_type": "code",
   "execution_count": 3,
   "id": "f2ee6083-77ea-4a09-8ce2-ff96b1557378",
   "metadata": {
    "tags": []
   },
   "outputs": [],
   "source": [
    "eigvals, eigvecs = np.linalg.eig(L)\n",
    "\n",
    "# Filtrar apenas os autovalores reais\n",
    "real_eigvals = eigvals[np.isreal(eigvals)]\n",
    "\n",
    "# Encontrar o autovalor real dominante (de maior módulo)\n",
    "dominant_real_eigval = real_eigvals[np.argmax(np.abs(real_eigvals))]\n",
    "\n",
    "# Encontrar o índice do autovalor dominante\n",
    "dominant_index = np.argmax(np.abs(real_eigvals))\n",
    "\n",
    "# Obter o autovetor correspondente ao autovalor dominante\n",
    "dominant_real_eigvec = eigvecs[:, dominant_index]\n",
    "dominant_real_eigvec = np.real(dominant_real_eigvec/ dominant_real_eigvec[0])"
   ]
  },
  {
   "cell_type": "code",
   "execution_count": 4,
   "id": "794756c6-2758-4655-805f-f6dabdc67c62",
   "metadata": {
    "tags": []
   },
   "outputs": [
    {
     "name": "stdout",
     "output_type": "stream",
     "text": [
      "Taxa de colheita uniforme: h = 17.31%\n",
      "\n",
      " Autovalor:\n",
      "           0\n",
      "0   1.000000\n",
      "1   0.682201\n",
      "2   0.393191\n",
      "3   0.211987\n",
      "4   0.093432\n",
      "5   0.057945\n",
      "6   0.047915\n",
      "7   0.039622\n",
      "8   0.032763\n",
      "9   0.027092\n",
      "10  0.014943\n"
     ]
    }
   ],
   "source": [
    "#Calculando h na colheita uniforme\n",
    "h = np.real(1 - (1/dominant_real_eigval))\n",
    "print(f\"Taxa de colheita uniforme: h = {h*100:.2f}%\")\n",
    "print('\\n Autovalor:')\n",
    "print(pd.DataFrame(dominant_real_eigvec))"
   ]
  },
  {
   "cell_type": "code",
   "execution_count": 5,
   "id": "f00704e0-08d3-45df-b8dd-37a93923df89",
   "metadata": {
    "tags": []
   },
   "outputs": [
    {
     "name": "stdout",
     "output_type": "stream",
     "text": [
      "Taxa de colheita para os mais jovens: h = 75.24%\n",
      "\n",
      " Autovalor:\n",
      "           0\n",
      "0   1.000000\n",
      "1   0.825000\n",
      "2   0.575025\n",
      "3   0.374916\n",
      "4   0.199830\n",
      "5   0.149873\n",
      "6   0.149873\n",
      "7   0.149873\n",
      "8   0.149873\n",
      "9   0.149873\n",
      "10  0.099965\n",
      "\n",
      "Taxa de colheita para toda a população = 44.27%\n"
     ]
    }
   ],
   "source": [
    "# Cálculo de h para a colheita da faixa etária mais jovem\n",
    "\n",
    "I = np.eye(L.shape[0])\n",
    "# Calculando o determinante de (L-I)\n",
    "R = np.linalg.det(L-I) + 1 \n",
    "h_jovem = 1 - (1/R)\n",
    "print(f\"Taxa de colheita para os mais jovens: h = {h_jovem*100:.2f}%\")\n",
    "\n",
    "H = matrix = np.zeros((11, 11))\n",
    "matrix[0, 0] = h_jovem\n",
    "\n",
    "IHL = (I - H) @ L\n",
    "\n",
    "#autovalores e autovetores para a matriz (I-H)L\n",
    "eigvals, eigvecs = np.linalg.eig(IHL)\n",
    "\n",
    "# Filtrar apenas os autovalores reais\n",
    "real_eigvals = eigvals[np.isreal(eigvals)]\n",
    "\n",
    "# Encontrar o autovalor real dominante (de maior módulo)\n",
    "dominant_real_eigval = real_eigvals[np.argmax(np.abs(real_eigvals))]\n",
    "# Encontrar o índice do autovalor dominante\n",
    "dominant_index = np.argmax(np.abs(real_eigvals))\n",
    "\n",
    "# Obter o autovetor correspondente ao autovalor dominante\n",
    "dominant_real_eigvec = np.real(eigvecs[:, dominant_index])\n",
    "x1 = dominant_real_eigvec/dominant_real_eigvec[0]\n",
    "print('\\n Autovalor:')\n",
    "print(pd.DataFrame(x1))\n",
    "\n",
    "Lx1 = L@x1\n",
    "total_entries_Lx1 = sum(Lx1)\n",
    "first_entry_percentage = Lx1[0]/total_entries_Lx1\n",
    "total_collect = first_entry_percentage * h_jovem\n",
    "print(f\"\\nTaxa de colheita para toda a população = {total_collect*100:.2f}%\")\n"
   ]
  },
  {
   "cell_type": "code",
   "execution_count": 6,
   "id": "6e24ee99-66e9-4c6c-a2cd-223a71dc17fc",
   "metadata": {
    "tags": []
   },
   "outputs": [
    {
     "name": "stdout",
     "output_type": "stream",
     "text": [
      "Taxa de sobrevivência ótima (O):                0\n",
      "0   2.476429e-01\n",
      "1   1.000000e+00\n",
      "2   1.000000e+00\n",
      "3   1.000000e+00\n",
      "4   1.000000e+00\n",
      "5   1.000000e+00\n",
      "6   1.000000e+00\n",
      "7   1.000000e+00\n",
      "8   1.000000e+00\n",
      "9   1.000000e+00\n",
      "10  4.440892e-16 \n",
      "\n",
      "Taxas de colheita (h):                0\n",
      "0   7.523571e-01\n",
      "1   0.000000e+00\n",
      "2   2.220446e-16\n",
      "3   0.000000e+00\n",
      "4   0.000000e+00\n",
      "5   1.110223e-16\n",
      "6   2.220446e-16\n",
      "7   0.000000e+00\n",
      "8   0.000000e+00\n",
      "9   0.000000e+00\n",
      "10  1.000000e+00 \n",
      "\n",
      "Colheita global máxima: 45.73%\n"
     ]
    }
   ],
   "source": [
    "from scipy.optimize import minimize\n",
    "\n",
    "#Maximizando a colheita\n",
    "\n",
    "m = L.shape[0]\n",
    "initial_survival = np.ones(m)  # (I-H).Chute inicial para as proporções de sobrevivência\n",
    "\n",
    "# Construção da matriz (I-H)L\n",
    "def build_matrix(L, O):\n",
    "    D = np.diag(O)\n",
    "    return np.dot(L, D)\n",
    "\n",
    "# Computando o u_i (proporção do i-ésimo grupo etário em relação a população total)\n",
    "def stable_state(C):\n",
    "    eigvals, eigvecs = np.linalg.eig(C)\n",
    "    idx = np.argmin(np.abs(eigvals - 1))  # Encontrar o lambda mais próximo de 1\n",
    "    y = np.real(eigvecs[:, idx])\n",
    "    return y / np.sum(y)  #u_i\n",
    "\n",
    "# O objectivo da função é maximizar G\n",
    "def harvest_function(O):\n",
    "    C = build_matrix(L, O)\n",
    "    u = stable_state(C)\n",
    "    h = 1 - O  # Taxa de colheita\n",
    "    G = np.dot(h, u) \n",
    "    return -G  # Negativo para ser maximizado na função minimize\n",
    "\n",
    "# Restrições\n",
    "def eigenvalue_constraint(O):\n",
    "    C = build_matrix(L, O)\n",
    "    eigvals = np.linalg.eigvals(C)\n",
    "    dominant = max(eigvals.real)\n",
    "    return 1 - dominant  #autovalor = 1\n",
    "\n",
    "constraints = [\n",
    "    {\"type\": \"eq\", \"fun\": eigenvalue_constraint},  # lambda = 1 \n",
    "    {\"type\": \"ineq\", \"fun\": lambda O: O},          # O >= 0\n",
    "]\n",
    "\n",
    "# Limites para a matriz O que é a (I-H): 0 <= O_i <= 1\n",
    "bounds = [(0, 1)] * m\n",
    "\n",
    "# Problema de otimização\n",
    "result = minimize(harvest_function, initial_survival, constraints=constraints, bounds=bounds, method='SLSQP')\n",
    "\n",
    "# Extract results\n",
    "optimal_O = result.x # taxa de sobrevivência ótima\n",
    "optimal_G = -result.fun  # Colheita global máxima\n",
    "\n",
    "# Print results\n",
    "print(\"Taxa de sobrevivência ótima (O):\", pd.DataFrame(optimal_O),\"\\n\")\n",
    "print(\"Taxas de colheita (h):\", pd.DataFrame(1 - optimal_O),\"\\n\")\n",
    "print(f\"Colheita global máxima: {optimal_G*100:.2f}%\", )"
   ]
  },
  {
   "cell_type": "code",
   "execution_count": null,
   "id": "789b72cd-83ba-48b0-9203-407171ede9d1",
   "metadata": {},
   "outputs": [],
   "source": []
  }
 ],
 "metadata": {
  "kernelspec": {
   "display_name": "Python 3 (ipykernel)",
   "language": "python",
   "name": "python3"
  },
  "language_info": {
   "codemirror_mode": {
    "name": "ipython",
    "version": 3
   },
   "file_extension": ".py",
   "mimetype": "text/x-python",
   "name": "python",
   "nbconvert_exporter": "python",
   "pygments_lexer": "ipython3",
   "version": "3.9.13"
  }
 },
 "nbformat": 4,
 "nbformat_minor": 5
}
